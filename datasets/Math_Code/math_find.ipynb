{
 "cells": [
  {
   "cell_type": "code",
   "id": "initial_id",
   "metadata": {
    "collapsed": true,
    "ExecuteTime": {
     "end_time": "2024-08-30T04:47:47.509736Z",
     "start_time": "2024-08-30T04:47:47.506491Z"
    }
   },
   "source": [
    "import os\n",
    "import json\n",
    "import numpy as np\n",
    "import random\n",
    "import re\n",
    "import copy\n",
    "from functools import partial\n"
   ],
   "outputs": [],
   "execution_count": 18
  },
  {
   "metadata": {
    "ExecuteTime": {
     "end_time": "2024-08-30T04:47:47.755869Z",
     "start_time": "2024-08-30T04:47:47.752588Z"
    }
   },
   "cell_type": "code",
   "source": [
    "\n",
    "def dump_jsonl(data, file_path):\n",
    "    with open(file_path, 'w') as f:\n",
    "        f.write('\\n'.join([json.dumps(item, ensure_ascii=False) for item in data]))\n",
    "        "
   ],
   "id": "d0f46f9b900a57b4",
   "outputs": [],
   "execution_count": 19
  },
  {
   "metadata": {
    "ExecuteTime": {
     "end_time": "2024-08-30T04:47:48.093433Z",
     "start_time": "2024-08-30T04:47:48.089498Z"
    }
   },
   "cell_type": "code",
   "source": [
    "def generate_list_data(length):\n",
    "    start_index = random.randint(-40, 20)\n",
    "    end_index = random.randint(50, 100)\n",
    "    \n",
    "    data = np.random.randint(start_index, end_index, length).tolist()\n",
    "    return data\n",
    "\n",
    "def get_largest_number(data, order):\n",
    "    unique_data = list(set(data))\n",
    "    unique_data.sort(reverse=True)\n",
    "    \n",
    "    if order > len(unique_data):\n",
    "        return None\n",
    "    \n",
    "    return unique_data[order - 1]\n",
    "\n",
    "def get_smallest_number(data, order):\n",
    "    unique_data = list(set(data))\n",
    "    unique_data.sort()\n",
    "    \n",
    "    if order > len(unique_data):\n",
    "        return None\n",
    "    \n",
    "    return unique_data[order - 1]\n",
    "\n",
    "def get_median(data):\n",
    "    return np.median(data)\n",
    "    "
   ],
   "id": "66267f8218024a8b",
   "outputs": [],
   "execution_count": 20
  },
  {
   "metadata": {
    "ExecuteTime": {
     "end_time": "2024-08-30T04:47:48.663391Z",
     "start_time": "2024-08-30T04:47:48.660924Z"
    }
   },
   "cell_type": "code",
   "source": [
    "tasks = [\n",
    "    (\"\\nThe median of the list is: \", get_median),\n",
    "    (\"\\nThe largest number of the list is: \", partial(get_largest_number, order=1)),\n",
    "    (\"\\nThe second largest number of the list is: \", partial(get_largest_number, order=2)),\n",
    "    (\"\\nThe third largest number of the list is: \", partial(get_largest_number, order=3)),\n",
    "    (\"\\nThe smallest number of the list is: \", partial(get_smallest_number, order=1)),\n",
    "    (\"\\nThe second smallest number of the list is: \", partial(get_smallest_number, order=2)),\n",
    "    (\"\\nThe third smallest number of the list is: \", partial(get_smallest_number, order=3))\n",
    "]"
   ],
   "id": "ff143fb12664a83a",
   "outputs": [],
   "execution_count": 21
  },
  {
   "metadata": {
    "ExecuteTime": {
     "end_time": "2024-08-30T04:47:52.875386Z",
     "start_time": "2024-08-30T04:47:52.870104Z"
    }
   },
   "cell_type": "code",
   "source": [
    "data_content = []\n",
    "num_generate = 50\n",
    "\n",
    "for _ in range(num_generate):\n",
    "    sequence_length = random.randint(10, 50)\n",
    "    data = generate_list_data(sequence_length)\n",
    "    input_query, task_func = random.choice(tasks)\n",
    "    \n",
    "    # Determine target number\n",
    "    target_number = re.findall(r\"The .+ of\", input_query)[0].lower()[:-3]\n",
    "    prefix = f\"What is the {target_number} in the following list?\"\n",
    "    context = json.dumps(data)\n",
    "    \n",
    "    # Generate the question\n",
    "    question = f\"{prefix}\\n{context}\\n{input_query}\"\n",
    "    \n",
    "    # Compute the correct answer\n",
    "    correct_answer = task_func(data)\n",
    "    \n",
    "    # Generate incorrect answers\n",
    "    incorrect_answers = set()\n",
    "    while len(incorrect_answers) < 3:\n",
    "        option = correct_answer + random.randint(-10, 10)\n",
    "        if option != correct_answer:\n",
    "            incorrect_answers.add(option)\n",
    "    \n",
    "    # Create options and ensure correct answer is in one of them\n",
    "    options = list(incorrect_answers)\n",
    "    correct_index = random.randint(0, 3)\n",
    "    options.insert(correct_index, correct_answer)\n",
    "    \n",
    "    # Map options to A, B, C, D\n",
    "    choices = ['A', 'B', 'C', 'D']\n",
    "    answer_letter = choices[correct_index]\n",
    "    \n",
    "    # Append the formatted question and answers to the dataset\n",
    "    data_content.append({\n",
    "        \"question\": question,\n",
    "        \"A\": str(options[0]),\n",
    "        \"B\": str(options[1]),\n",
    "        \"C\": str(options[2]),\n",
    "        \"D\": str(options[3]),\n",
    "        \"correct_answer\": answer_letter\n",
    "    })\n"
   ],
   "id": "a90426775b192945",
   "outputs": [],
   "execution_count": 22
  },
  {
   "metadata": {
    "ExecuteTime": {
     "end_time": "2024-08-30T04:47:53.449591Z",
     "start_time": "2024-08-30T04:47:53.447026Z"
    }
   },
   "cell_type": "code",
   "source": [
    "result_file = os.path.join('result', 'math_find.jsonl')\n",
    "dump_jsonl(data_content, result_file)"
   ],
   "id": "3155a6a586d9616f",
   "outputs": [],
   "execution_count": 23
  },
  {
   "metadata": {
    "ExecuteTime": {
     "end_time": "2024-08-15T10:15:32.666825Z",
     "start_time": "2024-08-15T10:15:32.665180Z"
    }
   },
   "cell_type": "code",
   "source": "",
   "id": "8dae3ddc4d4ea3d1",
   "outputs": [],
   "execution_count": 6
  },
  {
   "metadata": {
    "ExecuteTime": {
     "end_time": "2024-08-15T10:15:32.699451Z",
     "start_time": "2024-08-15T10:15:32.697991Z"
    }
   },
   "cell_type": "code",
   "source": "",
   "id": "a104050298a39cbc",
   "outputs": [],
   "execution_count": 6
  },
  {
   "metadata": {
    "ExecuteTime": {
     "end_time": "2024-08-15T10:15:32.736392Z",
     "start_time": "2024-08-15T10:15:32.734561Z"
    }
   },
   "cell_type": "code",
   "source": "",
   "id": "ac99118d18bac82c",
   "outputs": [],
   "execution_count": 6
  },
  {
   "metadata": {
    "ExecuteTime": {
     "end_time": "2024-08-15T10:15:32.769327Z",
     "start_time": "2024-08-15T10:15:32.768036Z"
    }
   },
   "cell_type": "code",
   "source": "",
   "id": "c6fe60b841d522ce",
   "outputs": [],
   "execution_count": 6
  },
  {
   "metadata": {
    "ExecuteTime": {
     "end_time": "2024-08-15T10:15:32.794820Z",
     "start_time": "2024-08-15T10:15:32.793284Z"
    }
   },
   "cell_type": "code",
   "source": "",
   "id": "15c84a9ea7ed50d2",
   "outputs": [],
   "execution_count": 6
  },
  {
   "metadata": {},
   "cell_type": "code",
   "outputs": [],
   "execution_count": null,
   "source": "",
   "id": "d4a8a41a16abdd4b"
  }
 ],
 "metadata": {
  "kernelspec": {
   "display_name": "Python 3",
   "language": "python",
   "name": "python3"
  },
  "language_info": {
   "codemirror_mode": {
    "name": "ipython",
    "version": 2
   },
   "file_extension": ".py",
   "mimetype": "text/x-python",
   "name": "python",
   "nbconvert_exporter": "python",
   "pygments_lexer": "ipython2",
   "version": "2.7.6"
  }
 },
 "nbformat": 4,
 "nbformat_minor": 5
}
