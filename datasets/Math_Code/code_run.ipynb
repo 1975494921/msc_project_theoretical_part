{
 "cells": [
  {
   "cell_type": "code",
   "id": "initial_id",
   "metadata": {
    "collapsed": true,
    "ExecuteTime": {
     "end_time": "2024-08-30T04:47:41.784235Z",
     "start_time": "2024-08-30T04:47:41.779480Z"
    }
   },
   "source": [
    "import os\n",
    "import json\n",
    "import random\n",
    "\n",
    "result_dir = 'result'\n",
    "\n",
    "\n",
    "def dump_jsonl(data, file_path):\n",
    "    with open(file_path, 'w') as f:\n",
    "        for line in data:\n",
    "            f.write(json.dumps(line, ensure_ascii=False) + '\\n')\n",
    "\n",
    "def generate_function_pure(func_name):\n",
    "    opcode = random.choice(['+', '-', '*', '/'])\n",
    "    oprand = random.randint(1, 20)\n",
    "    func = f\"\"\"\n",
    "def {func_name}(x):\n",
    "    return x {opcode} {oprand}\n",
    "\n",
    "\"\"\"\n",
    "    \n",
    "    return func\n",
    "\n",
    "def execute_function(func_text, func_name, x):\n",
    "    exec(func_text)\n",
    "    y = eval(f\"{func_name}({x})\")\n",
    "    \n",
    "    return y\n"
   ],
   "outputs": [],
   "execution_count": 13
  },
  {
   "metadata": {
    "ExecuteTime": {
     "end_time": "2024-08-30T04:47:42.118552Z",
     "start_time": "2024-08-30T04:47:42.111955Z"
    }
   },
   "cell_type": "code",
   "source": [
    "def generate_one_data_pure(num_func=10):\n",
    "    index_ptr = 0\n",
    "    \n",
    "    functions = dict()\n",
    "    concate_function = \"\"\n",
    "    for _ in range(num_func):\n",
    "        index_ptr += random.randint(1, 3)\n",
    "        function_name = f\"func_{index_ptr}\"\n",
    "        func_text = generate_function_pure(function_name)\n",
    "        functions[function_name] = func_text\n",
    "        concate_function += func_text\n",
    "    \n",
    "    return functions, concate_function\n",
    "\n",
    "def generate_pure_code_runs(num):\n",
    "    data = []\n",
    "    for _ in range(num):\n",
    "        functions, concate_function = generate_one_data_pure(num_func=random.randint(1, 15))\n",
    "        eval_func = random.choice(list(functions.keys()))\n",
    "        eval_oprand = random.randint(1, 20)\n",
    "        correct_answer = execute_function(functions[eval_func], eval_func, eval_oprand)\n",
    "        \n",
    "        # Generate incorrect answers\n",
    "        incorrect_answers = set()\n",
    "        while len(incorrect_answers) < 3:\n",
    "            option = correct_answer + random.randint(-10, 10)\n",
    "            if option != correct_answer:\n",
    "                incorrect_answers.add(option)\n",
    "        \n",
    "        # Create options and ensure correct answer is in one of them\n",
    "        options = list(incorrect_answers)\n",
    "        correct_index = random.randint(0, 3)\n",
    "        options.insert(correct_index, correct_answer)\n",
    "        \n",
    "        # Map options to A, B, C, D\n",
    "        choices = ['A', 'B', 'C', 'D']\n",
    "        answer_letter = choices[correct_index]\n",
    "        \n",
    "        question = (\n",
    "            f\"There is a function called {eval_func} in the following Python code:\\n\\n\"\n",
    "            f\"{concate_function}\\n\\n\"\n",
    "            f\"Compute the exact value of {eval_func}({eval_oprand}).\"\n",
    "        )\n",
    "        \n",
    "        data.append({\n",
    "            \"question\": question,\n",
    "            \"A\": str(options[0]),\n",
    "            \"B\": str(options[1]),\n",
    "            \"C\": str(options[2]),\n",
    "            \"D\": str(options[3]),\n",
    "            \"correct_answer\": answer_letter\n",
    "        })\n",
    "    \n",
    "    return data\n"
   ],
   "id": "27f0296f7cc0eef",
   "outputs": [],
   "execution_count": 14
  },
  {
   "metadata": {
    "ExecuteTime": {
     "end_time": "2024-08-30T04:47:42.565960Z",
     "start_time": "2024-08-30T04:47:42.562264Z"
    }
   },
   "cell_type": "code",
   "source": "pure_data = generate_pure_code_runs(50)",
   "id": "465604714015b557",
   "outputs": [],
   "execution_count": 15
  },
  {
   "metadata": {
    "ExecuteTime": {
     "end_time": "2024-08-30T04:47:43.239006Z",
     "start_time": "2024-08-30T04:47:43.234867Z"
    }
   },
   "cell_type": "code",
   "source": [
    "# dump_jsonl(result_data, os.path.join(result_dir, 'code_run_dataset.jsonl'))\n",
    "if not os.path.exists(result_dir):\n",
    "    os.makedirs(result_dir)\n",
    "    \n",
    "dump_jsonl(pure_data, os.path.join(result_dir, 'code_run.jsonl'))"
   ],
   "id": "e6574cf70882f4a7",
   "outputs": [],
   "execution_count": 16
  },
  {
   "metadata": {},
   "cell_type": "code",
   "outputs": [],
   "execution_count": null,
   "source": "",
   "id": "1bcf46c01b6372e7"
  }
 ],
 "metadata": {
  "kernelspec": {
   "display_name": "Python 3",
   "language": "python",
   "name": "python3"
  },
  "language_info": {
   "codemirror_mode": {
    "name": "ipython",
    "version": 2
   },
   "file_extension": ".py",
   "mimetype": "text/x-python",
   "name": "python",
   "nbconvert_exporter": "python",
   "pygments_lexer": "ipython2",
   "version": "2.7.6"
  }
 },
 "nbformat": 4,
 "nbformat_minor": 5
}
